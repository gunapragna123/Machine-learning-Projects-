{
 "cells": [
  {
   "cell_type": "code",
   "execution_count": 1,
   "metadata": {
    "id": "8qVhGJc29eiR"
   },
   "outputs": [],
   "source": [
    "import numpy as np"
   ]
  },
  {
   "cell_type": "code",
   "execution_count": 2,
   "metadata": {
    "colab": {
     "base_uri": "https://localhost:8080/"
    },
    "id": "S_kjO0xQ94nV",
    "outputId": "da1d10df-1ad5-41fc-dc35-e3d6978745c7"
   },
   "outputs": [
    {
     "data": {
      "text/plain": [
       "('2.8.0-dev20211116', '2.8.0')"
      ]
     },
     "execution_count": 2,
     "metadata": {},
     "output_type": "execute_result"
    }
   ],
   "source": [
    "# importing libraries for tensorflow\n",
    "import tensorflow as tf   \n",
    "#importing module for keras\n",
    "from tensorflow import keras \n",
    "# printing tensorflow and keras versions\n",
    "tf.__version__,keras.__version__    "
   ]
  },
  {
   "cell_type": "code",
   "execution_count": 3,
   "metadata": {
    "colab": {
     "base_uri": "https://localhost:8080/"
    },
    "id": "xDrqlCAu99fG",
    "outputId": "23d27e6a-96b7-48c8-f3de-345854659b3f"
   },
   "outputs": [],
   "source": [
    "fashion_mnist = keras.datasets.fashion_mnist\n",
    "(X_train_full, y_train_full), (X_test, y_test) = fashion_mnist.load_data() # loading fashion mnist dataset"
   ]
  },
  {
   "cell_type": "code",
   "execution_count": 4,
   "metadata": {
    "colab": {
     "base_uri": "https://localhost:8080/"
    },
    "id": "w12AR46U-DV1",
    "outputId": "177b7a2c-05a1-41dc-c9bf-53d3dcebd674"
   },
   "outputs": [
    {
     "data": {
      "text/plain": [
       "(60000, 28, 28)"
      ]
     },
     "execution_count": 4,
     "metadata": {},
     "output_type": "execute_result"
    }
   ],
   "source": [
    "# priniting the length and dimentions for the given dataset\n",
    "X_train_full.shape "
   ]
  },
  {
   "cell_type": "code",
   "execution_count": 5,
   "metadata": {
    "id": "76k8x8O9-UTw"
   },
   "outputs": [],
   "source": [
    "X_valid, X_train = X_train_full[:5000] / 255.0, X_train_full[5000:] / 255.0  \n",
    "#scaling and splitting of dataset\n",
    "y_valid, y_train = y_train_full[:5000], y_train_full[5000:]"
   ]
  },
  {
   "cell_type": "code",
   "execution_count": 6,
   "metadata": {
    "id": "044_DyN1-ZBI"
   },
   "outputs": [],
   "source": [
    " # types of classes for the dataset\n",
    " class_names = [\"T-shirt/top\", \"Trouser\", \"Pullover\", \"Dress\", \"Coat\",\n",
    "\"Sandal\", \"Shirt\", \"Sneaker\", \"Bag\", \"Ankle boot\"]                         "
   ]
  },
  {
   "cell_type": "code",
   "execution_count": 7,
   "metadata": {
    "colab": {
     "base_uri": "https://localhost:8080/",
     "height": 35
    },
    "id": "rXdf2ahQ-iyL",
    "outputId": "0409c758-2b63-4c83-9c15-702f70e6c64c"
   },
   "outputs": [
    {
     "data": {
      "text/plain": [
       "'Coat'"
      ]
     },
     "execution_count": 7,
     "metadata": {},
     "output_type": "execute_result"
    }
   ],
   "source": [
    "class_names[y_train[0]]"
   ]
  },
  {
   "cell_type": "code",
   "execution_count": 8,
   "metadata": {
    "id": "eY4e-x2V-o8s"
   },
   "outputs": [],
   "source": [
    "model = keras.models.Sequential()       #batch normaliszation and dropout layers are used to create neural network on keras sequential             \n",
    "model.add(keras.layers.Flatten(input_shape=[28, 28]))    \n",
    "model.add(keras.layers.Dense(300, activation=\"relu\"))\n",
    "model.add(keras.layers.Dropout(rate=0.3))     #\n",
    "model.add(keras.layers.BatchNormalization())\n",
    "model.add(keras.layers.Dense(100, activation=\"relu\"))\n",
    "model.add(keras.layers.Dropout(rate=0.3))\n",
    "model.add(keras.layers.BatchNormalization())\n",
    "model.add(keras.layers.Dense(10, activation=\"softmax\"))"
   ]
  },
  {
   "cell_type": "code",
   "execution_count": 9,
   "metadata": {
    "colab": {
     "base_uri": "https://localhost:8080/"
    },
    "id": "GMI6rzdj-snV",
    "outputId": "84303e73-f556-4691-820f-40a7d8d8d67e"
   },
   "outputs": [
    {
     "name": "stdout",
     "output_type": "stream",
     "text": [
      "Model: \"sequential\"\n",
      "_________________________________________________________________\n",
      " Layer (type)                Output Shape              Param #   \n",
      "=================================================================\n",
      " flatten (Flatten)           (None, 784)               0         \n",
      "                                                                 \n",
      " dense (Dense)               (None, 300)               235500    \n",
      "                                                                 \n",
      " dropout (Dropout)           (None, 300)               0         \n",
      "                                                                 \n",
      " batch_normalization (BatchN  (None, 300)              1200      \n",
      " ormalization)                                                   \n",
      "                                                                 \n",
      " dense_1 (Dense)             (None, 100)               30100     \n",
      "                                                                 \n",
      " dropout_1 (Dropout)         (None, 100)               0         \n",
      "                                                                 \n",
      " batch_normalization_1 (Batc  (None, 100)              400       \n",
      " hNormalization)                                                 \n",
      "                                                                 \n",
      " dense_2 (Dense)             (None, 10)                1010      \n",
      "                                                                 \n",
      "=================================================================\n",
      "Total params: 268,210\n",
      "Trainable params: 267,410\n",
      "Non-trainable params: 800\n",
      "_________________________________________________________________\n"
     ]
    }
   ],
   "source": [
    "model.summary() # model summary and display of layers connected to eachother"
   ]
  },
  {
   "cell_type": "code",
   "execution_count": 10,
   "metadata": {
    "id": "1OJ4hKCy-ypc"
   },
   "outputs": [],
   "source": [
    "model.compile(loss=\"sparse_categorical_crossentropy\", optimizer=\"sgd\", metrics=[\"accuracy\"])  # defining the optimizers, loss and metric functions"
   ]
  },
  {
   "cell_type": "code",
   "execution_count": 11,
   "metadata": {
    "colab": {
     "base_uri": "https://localhost:8080/"
    },
    "id": "4nCnf6-j-_Nw",
    "outputId": "00911658-15ac-439d-9f58-5e03ee00852b"
   },
   "outputs": [
    {
     "name": "stdout",
     "output_type": "stream",
     "text": [
      "Epoch 1/25\n",
      "1719/1719 [==============================] - 6s 3ms/step - loss: 0.7594 - accuracy: 0.7369 - val_loss: 0.4484 - val_accuracy: 0.8388\n",
      "Epoch 2/25\n",
      "1719/1719 [==============================] - 7s 4ms/step - loss: 0.5540 - accuracy: 0.8047 - val_loss: 0.4035 - val_accuracy: 0.8566\n",
      "Epoch 3/25\n",
      "1719/1719 [==============================] - 7s 4ms/step - loss: 0.5063 - accuracy: 0.8195 - val_loss: 0.3816 - val_accuracy: 0.8628\n",
      "Epoch 4/25\n",
      "1719/1719 [==============================] - 7s 4ms/step - loss: 0.4795 - accuracy: 0.8303 - val_loss: 0.3684 - val_accuracy: 0.8660\n",
      "Epoch 5/25\n",
      "1719/1719 [==============================] - 8s 5ms/step - loss: 0.4599 - accuracy: 0.8355 - val_loss: 0.3652 - val_accuracy: 0.8686\n",
      "Epoch 6/25\n",
      "1719/1719 [==============================] - 9s 5ms/step - loss: 0.4419 - accuracy: 0.8438 - val_loss: 0.3540 - val_accuracy: 0.8708\n",
      "Epoch 7/25\n",
      "1719/1719 [==============================] - 9s 5ms/step - loss: 0.4331 - accuracy: 0.8461 - val_loss: 0.3469 - val_accuracy: 0.8768\n",
      "Epoch 8/25\n",
      "1719/1719 [==============================] - 9s 5ms/step - loss: 0.4192 - accuracy: 0.8503 - val_loss: 0.3476 - val_accuracy: 0.8708\n",
      "Epoch 9/25\n",
      "1719/1719 [==============================] - 8s 5ms/step - loss: 0.4114 - accuracy: 0.8511 - val_loss: 0.3383 - val_accuracy: 0.8778\n",
      "Epoch 10/25\n",
      "1719/1719 [==============================] - 8s 5ms/step - loss: 0.4072 - accuracy: 0.8548 - val_loss: 0.3415 - val_accuracy: 0.8758\n",
      "Epoch 11/25\n",
      "1719/1719 [==============================] - 7s 4ms/step - loss: 0.3926 - accuracy: 0.8587 - val_loss: 0.3281 - val_accuracy: 0.8842\n",
      "Epoch 12/25\n",
      "1719/1719 [==============================] - 7s 4ms/step - loss: 0.3894 - accuracy: 0.8607 - val_loss: 0.3325 - val_accuracy: 0.8790\n",
      "Epoch 13/25\n",
      "1719/1719 [==============================] - 7s 4ms/step - loss: 0.3879 - accuracy: 0.8604 - val_loss: 0.3283 - val_accuracy: 0.8786\n",
      "Epoch 14/25\n",
      "1719/1719 [==============================] - 7s 4ms/step - loss: 0.3768 - accuracy: 0.8642 - val_loss: 0.3136 - val_accuracy: 0.8854\n",
      "Epoch 15/25\n",
      "1719/1719 [==============================] - 9s 5ms/step - loss: 0.3729 - accuracy: 0.8651 - val_loss: 0.3261 - val_accuracy: 0.8794\n",
      "Epoch 16/25\n",
      "1719/1719 [==============================] - 8s 5ms/step - loss: 0.3681 - accuracy: 0.8673 - val_loss: 0.3211 - val_accuracy: 0.8824\n",
      "Epoch 17/25\n",
      "1719/1719 [==============================] - 7s 4ms/step - loss: 0.3660 - accuracy: 0.8669 - val_loss: 0.3155 - val_accuracy: 0.8828\n",
      "Epoch 18/25\n",
      "1719/1719 [==============================] - 7s 4ms/step - loss: 0.3667 - accuracy: 0.8678 - val_loss: 0.3200 - val_accuracy: 0.8818\n",
      "Epoch 19/25\n",
      "1719/1719 [==============================] - 8s 5ms/step - loss: 0.3570 - accuracy: 0.8708 - val_loss: 0.3109 - val_accuracy: 0.8862\n",
      "Epoch 20/25\n",
      "1719/1719 [==============================] - 8s 4ms/step - loss: 0.3562 - accuracy: 0.8698 - val_loss: 0.3122 - val_accuracy: 0.8892\n",
      "Epoch 21/25\n",
      "1719/1719 [==============================] - 8s 4ms/step - loss: 0.3478 - accuracy: 0.8734 - val_loss: 0.3110 - val_accuracy: 0.8896\n",
      "Epoch 22/25\n",
      "1719/1719 [==============================] - 8s 4ms/step - loss: 0.3475 - accuracy: 0.8731 - val_loss: 0.3137 - val_accuracy: 0.8860\n",
      "Epoch 23/25\n",
      "1719/1719 [==============================] - 8s 4ms/step - loss: 0.3479 - accuracy: 0.8727 - val_loss: 0.3110 - val_accuracy: 0.8884\n",
      "Epoch 24/25\n",
      "1719/1719 [==============================] - 7s 4ms/step - loss: 0.3443 - accuracy: 0.8745 - val_loss: 0.3102 - val_accuracy: 0.8876\n",
      "Epoch 25/25\n",
      "1719/1719 [==============================] - 8s 5ms/step - loss: 0.3417 - accuracy: 0.8760 - val_loss: 0.3049 - val_accuracy: 0.8874\n"
     ]
    }
   ],
   "source": [
    "history = model.fit(X_train, y_train, epochs=25, validation_data=(X_valid, y_valid)) # training the model and validating the dataset"
   ]
  },
  {
   "cell_type": "code",
   "execution_count": 12,
   "metadata": {
    "colab": {
     "base_uri": "https://localhost:8080/"
    },
    "id": "rAmeSb8WBOS0",
    "outputId": "64c06980-6ac1-4c01-ecc8-56f5d34f91c3"
   },
   "outputs": [
    {
     "name": "stdout",
     "output_type": "stream",
     "text": [
      "313/313 [==============================] - 1s 2ms/step - loss: 36.0295 - accuracy: 0.8498\n"
     ]
    },
    {
     "data": {
      "text/plain": [
       "[36.02947235107422, 0.8497999906539917]"
      ]
     },
     "execution_count": 12,
     "metadata": {},
     "output_type": "execute_result"
    }
   ],
   "source": [
    " # evaluating the model with test data\n",
    " model.evaluate(X_test, y_test)\n",
    "# acuraccy of the model can be seen below"
   ]
  },
  {
   "cell_type": "code",
   "execution_count": 13,
   "metadata": {
    "id": "XBWae3-yJAAy"
   },
   "outputs": [],
   "source": [
    "model = keras.models.Sequential()       #batch normaliszation and dropout layers are used to create neural network on keras sequential             \n",
    "model.add(keras.layers.Flatten(input_shape=[28, 28]))    \n",
    "model.add(keras.layers.Dense(400, activation=\"relu\"))\n",
    "model.add(keras.layers.Dropout(rate=0.3))     #\n",
    "model.add(keras.layers.BatchNormalization())\n",
    "model.add(keras.layers.Dense(200, activation=\"relu\"))\n",
    "model.add(keras.layers.Dropout(rate=0.3))\n",
    "model.add(keras.layers.BatchNormalization())\n",
    "model.add(keras.layers.Dense(20, activation=\"softmax\"))"
   ]
  },
  {
   "cell_type": "code",
   "execution_count": 14,
   "metadata": {
    "colab": {
     "base_uri": "https://localhost:8080/"
    },
    "id": "rpKfwYdTJ3vY",
    "outputId": "44a757ba-b156-4bcf-8a91-1c87eda13234"
   },
   "outputs": [
    {
     "name": "stdout",
     "output_type": "stream",
     "text": [
      "Model: \"sequential_1\"\n",
      "_________________________________________________________________\n",
      " Layer (type)                Output Shape              Param #   \n",
      "=================================================================\n",
      " flatten_1 (Flatten)         (None, 784)               0         \n",
      "                                                                 \n",
      " dense_3 (Dense)             (None, 400)               314000    \n",
      "                                                                 \n",
      " dropout_2 (Dropout)         (None, 400)               0         \n",
      "                                                                 \n",
      " batch_normalization_2 (Batc  (None, 400)              1600      \n",
      " hNormalization)                                                 \n",
      "                                                                 \n",
      " dense_4 (Dense)             (None, 200)               80200     \n",
      "                                                                 \n",
      " dropout_3 (Dropout)         (None, 200)               0         \n",
      "                                                                 \n",
      " batch_normalization_3 (Batc  (None, 200)              800       \n",
      " hNormalization)                                                 \n",
      "                                                                 \n",
      " dense_5 (Dense)             (None, 20)                4020      \n",
      "                                                                 \n",
      "=================================================================\n",
      "Total params: 400,620\n",
      "Trainable params: 399,420\n",
      "Non-trainable params: 1,200\n",
      "_________________________________________________________________\n"
     ]
    }
   ],
   "source": [
    "model.summary() # model summary and display of layers connected to eachother"
   ]
  },
  {
   "cell_type": "code",
   "execution_count": 15,
   "metadata": {
    "id": "t2DNVe4bJ_po"
   },
   "outputs": [],
   "source": [
    "model.compile(loss=\"sparse_categorical_crossentropy\", optimizer=\"sgd\", metrics=[\"accuracy\"])  # defining the optimizers, loss and metric functions"
   ]
  },
  {
   "cell_type": "code",
   "execution_count": 16,
   "metadata": {
    "colab": {
     "base_uri": "https://localhost:8080/"
    },
    "id": "emN-rt14KM4R",
    "outputId": "9ecd8717-2af4-4838-f81d-01fecbd42bbe"
   },
   "outputs": [
    {
     "name": "stdout",
     "output_type": "stream",
     "text": [
      "Epoch 1/35\n",
      "1719/1719 [==============================] - 12s 7ms/step - loss: 0.7466 - accuracy: 0.7532 - val_loss: 0.4294 - val_accuracy: 0.8464\n",
      "Epoch 2/35\n",
      "1719/1719 [==============================] - 12s 7ms/step - loss: 0.5366 - accuracy: 0.8103 - val_loss: 0.3878 - val_accuracy: 0.8584\n",
      "Epoch 3/35\n",
      "1719/1719 [==============================] - 11s 6ms/step - loss: 0.4849 - accuracy: 0.8283 - val_loss: 0.3719 - val_accuracy: 0.8716\n",
      "Epoch 4/35\n",
      "1719/1719 [==============================] - 11s 6ms/step - loss: 0.4569 - accuracy: 0.8377 - val_loss: 0.3632 - val_accuracy: 0.8716\n",
      "Epoch 5/35\n",
      "1719/1719 [==============================] - 11s 7ms/step - loss: 0.4401 - accuracy: 0.8415 - val_loss: 0.3493 - val_accuracy: 0.8690\n",
      "Epoch 6/35\n",
      "1719/1719 [==============================] - 12s 7ms/step - loss: 0.4223 - accuracy: 0.8465 - val_loss: 0.3421 - val_accuracy: 0.8776\n",
      "Epoch 7/35\n",
      "1719/1719 [==============================] - 14s 8ms/step - loss: 0.4060 - accuracy: 0.8537 - val_loss: 0.3331 - val_accuracy: 0.8768\n",
      "Epoch 8/35\n",
      "1719/1719 [==============================] - 17s 10ms/step - loss: 0.3964 - accuracy: 0.8564 - val_loss: 0.3329 - val_accuracy: 0.8812\n",
      "Epoch 9/35\n",
      "1719/1719 [==============================] - 18s 10ms/step - loss: 0.3878 - accuracy: 0.8601 - val_loss: 0.3295 - val_accuracy: 0.8784\n",
      "Epoch 10/35\n",
      "1719/1719 [==============================] - 16s 9ms/step - loss: 0.3792 - accuracy: 0.8609 - val_loss: 0.3218 - val_accuracy: 0.8832\n",
      "Epoch 11/35\n",
      "1719/1719 [==============================] - 17s 10ms/step - loss: 0.3758 - accuracy: 0.8634 - val_loss: 0.3142 - val_accuracy: 0.8858\n",
      "Epoch 12/35\n",
      "1719/1719 [==============================] - 17s 10ms/step - loss: 0.3676 - accuracy: 0.8659 - val_loss: 0.3233 - val_accuracy: 0.8830\n",
      "Epoch 13/35\n",
      "1719/1719 [==============================] - 17s 10ms/step - loss: 0.3606 - accuracy: 0.8694 - val_loss: 0.3093 - val_accuracy: 0.8864\n",
      "Epoch 14/35\n",
      "1719/1719 [==============================] - 16s 9ms/step - loss: 0.3585 - accuracy: 0.8704 - val_loss: 0.3157 - val_accuracy: 0.8820\n",
      "Epoch 15/35\n",
      "1719/1719 [==============================] - 14s 8ms/step - loss: 0.3536 - accuracy: 0.8713 - val_loss: 0.3190 - val_accuracy: 0.8828\n",
      "Epoch 16/35\n",
      "1719/1719 [==============================] - 13s 8ms/step - loss: 0.3514 - accuracy: 0.8737 - val_loss: 0.3059 - val_accuracy: 0.8886\n",
      "Epoch 17/35\n",
      "1719/1719 [==============================] - 13s 8ms/step - loss: 0.3473 - accuracy: 0.8730 - val_loss: 0.3110 - val_accuracy: 0.8900\n",
      "Epoch 18/35\n",
      "1719/1719 [==============================] - 13s 7ms/step - loss: 0.3423 - accuracy: 0.8761 - val_loss: 0.3130 - val_accuracy: 0.8858\n",
      "Epoch 19/35\n",
      "1719/1719 [==============================] - 15s 9ms/step - loss: 0.3430 - accuracy: 0.8744 - val_loss: 0.3124 - val_accuracy: 0.8864\n",
      "Epoch 20/35\n",
      "1719/1719 [==============================] - 15s 9ms/step - loss: 0.3365 - accuracy: 0.8757 - val_loss: 0.2984 - val_accuracy: 0.8892\n",
      "Epoch 21/35\n",
      "1719/1719 [==============================] - 14s 8ms/step - loss: 0.3312 - accuracy: 0.8772 - val_loss: 0.3016 - val_accuracy: 0.8888\n",
      "Epoch 22/35\n",
      "1719/1719 [==============================] - 14s 8ms/step - loss: 0.3282 - accuracy: 0.8793 - val_loss: 0.3036 - val_accuracy: 0.8894\n",
      "Epoch 23/35\n",
      "1719/1719 [==============================] - 14s 8ms/step - loss: 0.3261 - accuracy: 0.8805 - val_loss: 0.2990 - val_accuracy: 0.8904\n",
      "Epoch 24/35\n",
      "1719/1719 [==============================] - 14s 8ms/step - loss: 0.3240 - accuracy: 0.8816 - val_loss: 0.3086 - val_accuracy: 0.8906\n",
      "Epoch 25/35\n",
      "1719/1719 [==============================] - 15s 9ms/step - loss: 0.3230 - accuracy: 0.8801 - val_loss: 0.3005 - val_accuracy: 0.8888\n",
      "Epoch 26/35\n",
      "1719/1719 [==============================] - 15s 9ms/step - loss: 0.3136 - accuracy: 0.8847 - val_loss: 0.3045 - val_accuracy: 0.8858\n",
      "Epoch 27/35\n",
      "1719/1719 [==============================] - 12s 7ms/step - loss: 0.3184 - accuracy: 0.8828 - val_loss: 0.3012 - val_accuracy: 0.8894\n",
      "Epoch 28/35\n",
      "1719/1719 [==============================] - 11s 6ms/step - loss: 0.3137 - accuracy: 0.8847 - val_loss: 0.2949 - val_accuracy: 0.8934\n",
      "Epoch 29/35\n",
      "1719/1719 [==============================] - 12s 7ms/step - loss: 0.3073 - accuracy: 0.8869 - val_loss: 0.3054 - val_accuracy: 0.8896\n",
      "Epoch 30/35\n",
      "1719/1719 [==============================] - 11s 7ms/step - loss: 0.3078 - accuracy: 0.8841 - val_loss: 0.2947 - val_accuracy: 0.8948\n",
      "Epoch 31/35\n",
      "1719/1719 [==============================] - 11s 6ms/step - loss: 0.3091 - accuracy: 0.8861 - val_loss: 0.2992 - val_accuracy: 0.8892\n",
      "Epoch 32/35\n",
      "1719/1719 [==============================] - 11s 6ms/step - loss: 0.3086 - accuracy: 0.8862 - val_loss: 0.2918 - val_accuracy: 0.8894\n",
      "Epoch 33/35\n",
      "1719/1719 [==============================] - 11s 6ms/step - loss: 0.3046 - accuracy: 0.8865 - val_loss: 0.2962 - val_accuracy: 0.8920\n",
      "Epoch 34/35\n",
      "1719/1719 [==============================] - 11s 6ms/step - loss: 0.3031 - accuracy: 0.8886 - val_loss: 0.3010 - val_accuracy: 0.8884\n",
      "Epoch 35/35\n",
      "1719/1719 [==============================] - 11s 6ms/step - loss: 0.3006 - accuracy: 0.8876 - val_loss: 0.3082 - val_accuracy: 0.8858\n"
     ]
    }
   ],
   "source": [
    "history = model.fit(X_train, y_train, epochs=35, validation_data=(X_valid, y_valid)) # training the model and validating the dataset"
   ]
  },
  {
   "cell_type": "code",
   "execution_count": 17,
   "metadata": {
    "colab": {
     "base_uri": "https://localhost:8080/"
    },
    "id": "gVhVdLdnK8Bp",
    "outputId": "c51c4dff-50ef-404f-d10f-a8cf014f5198"
   },
   "outputs": [
    {
     "name": "stdout",
     "output_type": "stream",
     "text": [
      "313/313 [==============================] - 1s 3ms/step - loss: 51.7564 - accuracy: 0.8301\n"
     ]
    },
    {
     "data": {
      "text/plain": [
       "[51.75642013549805, 0.8300999999046326]"
      ]
     },
     "execution_count": 17,
     "metadata": {},
     "output_type": "execute_result"
    }
   ],
   "source": [
    "# evaluating the model with test data\n",
    "model.evaluate(X_test, y_test)\n",
    "# acuraccy of the model can be seen below"
   ]
  },
  {
   "cell_type": "code",
   "execution_count": 18,
   "metadata": {
    "id": "RbKSDnP9MTx9"
   },
   "outputs": [],
   "source": [
    "model = keras.models.Sequential()       #batch normaliszation and dropout layers are used to create neural network on keras sequential             \n",
    "model.add(keras.layers.Flatten(input_shape=[28, 28]))    \n",
    "model.add(keras.layers.Dense(600, activation=\"relu\"))\n",
    "model.add(keras.layers.Dropout(rate=0.3))     #\n",
    "model.add(keras.layers.BatchNormalization())\n",
    "model.add(keras.layers.Dense(400, activation=\"relu\"))\n",
    "model.add(keras.layers.Dropout(rate=0.3))\n",
    "model.add(keras.layers.BatchNormalization())\n",
    "model.add(keras.layers.Dense(70, activation=\"softmax\"))"
   ]
  },
  {
   "cell_type": "code",
   "execution_count": 19,
   "metadata": {
    "colab": {
     "base_uri": "https://localhost:8080/"
    },
    "id": "8pdaeHSaMdkY",
    "outputId": "3fdcc187-0873-4d0e-9ece-194abbdc6407"
   },
   "outputs": [
    {
     "name": "stdout",
     "output_type": "stream",
     "text": [
      "Model: \"sequential_2\"\n",
      "_________________________________________________________________\n",
      " Layer (type)                Output Shape              Param #   \n",
      "=================================================================\n",
      " flatten_2 (Flatten)         (None, 784)               0         \n",
      "                                                                 \n",
      " dense_6 (Dense)             (None, 600)               471000    \n",
      "                                                                 \n",
      " dropout_4 (Dropout)         (None, 600)               0         \n",
      "                                                                 \n",
      " batch_normalization_4 (Batc  (None, 600)              2400      \n",
      " hNormalization)                                                 \n",
      "                                                                 \n",
      " dense_7 (Dense)             (None, 400)               240400    \n",
      "                                                                 \n",
      " dropout_5 (Dropout)         (None, 400)               0         \n",
      "                                                                 \n",
      " batch_normalization_5 (Batc  (None, 400)              1600      \n",
      " hNormalization)                                                 \n",
      "                                                                 \n",
      " dense_8 (Dense)             (None, 70)                28070     \n",
      "                                                                 \n",
      "=================================================================\n",
      "Total params: 743,470\n",
      "Trainable params: 741,470\n",
      "Non-trainable params: 2,000\n",
      "_________________________________________________________________\n"
     ]
    }
   ],
   "source": [
    "model.summary() # model summary and display of layers connected to eachother"
   ]
  },
  {
   "cell_type": "code",
   "execution_count": 20,
   "metadata": {
    "id": "wMZKT55YMmA1"
   },
   "outputs": [],
   "source": [
    "model.compile(loss=\"sparse_categorical_crossentropy\", optimizer=\"sgd\", metrics=[\"accuracy\"])  # defining the optimizers, loss and metric functions"
   ]
  },
  {
   "cell_type": "code",
   "execution_count": null,
   "metadata": {
    "colab": {
     "base_uri": "https://localhost:8080/"
    },
    "id": "vdCm0qI5M45l",
    "outputId": "b3b89f73-ac8e-4f1e-f33e-1e02f17cfd9a"
   },
   "outputs": [
    {
     "name": "stdout",
     "output_type": "stream",
     "text": [
      "Epoch 1/50\n",
      "1719/1719 [==============================] - 17s 9ms/step - loss: 0.7459 - accuracy: 0.7689 - val_loss: 0.4279 - val_accuracy: 0.8510\n",
      "Epoch 2/50\n",
      "1719/1719 [==============================] - 16s 9ms/step - loss: 0.5097 - accuracy: 0.8202 - val_loss: 0.3894 - val_accuracy: 0.8634\n",
      "Epoch 3/50\n",
      "1719/1719 [==============================] - 16s 9ms/step - loss: 0.4654 - accuracy: 0.8364 - val_loss: 0.3679 - val_accuracy: 0.8714\n",
      "Epoch 4/50\n",
      "1719/1719 [==============================] - 16s 9ms/step - loss: 0.4317 - accuracy: 0.8443 - val_loss: 0.3517 - val_accuracy: 0.8804\n",
      "Epoch 5/50\n",
      "1708/1719 [============================>.] - ETA: 0s - loss: 0.4142 - accuracy: 0.8515"
     ]
    }
   ],
   "source": [
    "history = model.fit(X_train, y_train, epochs=50, validation_data=(X_valid, y_valid)) # training the model and validating the dataset"
   ]
  },
  {
   "cell_type": "code",
   "execution_count": 25,
   "metadata": {
    "colab": {
     "base_uri": "https://localhost:8080/"
    },
    "id": "EABqT6dyOO1F",
    "outputId": "a67565a5-8d51-4187-bcaf-8c8613d6a11e"
   },
   "outputs": [
    {
     "name": "stdout",
     "output_type": "stream",
     "text": [
      "313/313 [==============================] - 2s 5ms/step - loss: 67.8192 - accuracy: 0.8010\n"
     ]
    },
    {
     "data": {
      "text/plain": [
       "[67.81916046142578, 0.8009999990463257]"
      ]
     },
     "execution_count": 25,
     "metadata": {},
     "output_type": "execute_result"
    }
   ],
   "source": [
    "# evaluating the model with test data\n",
    "model.evaluate(X_test, y_test)\n",
    "# acuraccy of the model can be seen below\n"
   ]
  },
  {
   "cell_type": "code",
   "execution_count": 26,
   "metadata": {
    "id": "x_y1yu3RQPC9"
   },
   "outputs": [],
   "source": [
    "average=(0.8425+0.8312+0.8010)/3"
   ]
  },
  {
   "cell_type": "code",
   "execution_count": 27,
   "metadata": {
    "colab": {
     "base_uri": "https://localhost:8080/"
    },
    "id": "5iaZdW0FQp50",
    "outputId": "5271be1b-11ae-4169-e748-af988c300f12"
   },
   "outputs": [
    {
     "data": {
      "text/plain": [
       "0.8249000000000001"
      ]
     },
     "execution_count": 27,
     "metadata": {},
     "output_type": "execute_result"
    }
   ],
   "source": [
    "average"
   ]
  }
 ],
 "metadata": {
  "colab": {
   "collapsed_sections": [],
   "name": "MLfinalproject.ipynb",
   "provenance": []
  },
  "kernelspec": {
   "display_name": "Python 3",
   "language": "python",
   "name": "python3"
  },
  "language_info": {
   "codemirror_mode": {
    "name": "ipython",
    "version": 3
   },
   "file_extension": ".py",
   "mimetype": "text/x-python",
   "name": "python",
   "nbconvert_exporter": "python",
   "pygments_lexer": "ipython3",
   "version": "3.8.8"
  }
 },
 "nbformat": 4,
 "nbformat_minor": 1
}
