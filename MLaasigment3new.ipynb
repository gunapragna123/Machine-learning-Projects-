{
  "nbformat": 4,
  "nbformat_minor": 0,
  "metadata": {
    "colab": {
      "name": "MLaasigment3new.ipynb",
      "provenance": []
    },
    "kernelspec": {
      "name": "python3",
      "display_name": "Python 3"
    },
    "language_info": {
      "name": "python"
    }
  },
  "cells": [
    {
      "cell_type": "code",
      "metadata": {
        "id": "74lt9me-K-Ny"
      },
      "source": [
        "import pandas as pd\n",
        "import numpy as np\n",
        "import keras \n",
        "import matplotlib.pyplot as plt\n",
        "import numpy as np\n",
        "from sklearn.linear_model import Perceptron\n",
        "from sklearn.datasets import fetch_california_housing\n",
        "from sklearn.model_selection import train_test_split\n",
        "from sklearn.preprocessing import StandardScaler\n",
        "from tensorflow.keras.preprocessing.text import Tokenizer\n",
        "from tensorflow.keras.preprocessing.sequence import pad_sequences\n",
        "from keras.datasets import mnist"
      ],
      "execution_count": 25,
      "outputs": []
    },
    {
      "cell_type": "code",
      "metadata": {
        "id": "izLGKyP-LsDA"
      },
      "source": [
        "fashion_mnist = keras.datasets.fashion_mnist\n",
        "(x_train_full, y_train_full), (x_test, y_test) = fashion_mnist.load_data() #downloading the data "
      ],
      "execution_count": 27,
      "outputs": []
    },
    {
      "cell_type": "code",
      "metadata": {
        "id": "5WEPnkNwOEpg"
      },
      "source": [
        "x_train_full, x_test= x_train_full / 255.0, x_test /255.0\n",
        "x_valid, x_train = x_train_full[:50000] , x_train_full[50000:] #slicing the data \n",
        "y_valid, y_train = y_train_full[:50000] , y_train_full[50000:] #slicing the data \n",
        "x_train_shape = x_train.shape \n",
        "x_test_shape = x_test.shape\n",
        "x_shape = (x_train_shape[1], x_train_shape[2],1)"
      ],
      "execution_count": 28,
      "outputs": []
    },
    {
      "cell_type": "code",
      "metadata": {
        "id": "fj_DIzkEOE1L"
      },
      "source": [
        "input = keras.layers.Input (shape = x_train[0].shape) \n",
        "hidden1 = keras.layers.Dense(30,activation='relu')(input) #applies the rectified linear unit activation function for the input \n",
        "model = keras.layers.BatchNormalization()(hidden1)\n",
        "model = keras.layers.Dropout(0.4)(model)\n",
        "hidden2 = keras.layers.Dense(28,activation='relu')(model) #applies the rectified linear unit activation function for the model \n",
        "concat = keras.layers.Concatenate(axis=1)\n",
        "model = concat([input,hidden2])\n",
        "model = keras.layers.Flatten()(model) \n",
        "output = keras.layers.Dense(10,activation=\"softmax\")(model) \n",
        "model = keras.models.Model (inputs = [input], outputs= [output])"
      ],
      "execution_count": 29,
      "outputs": []
    },
    {
      "cell_type": "code",
      "metadata": {
        "colab": {
          "base_uri": "https://localhost:8080/"
        },
        "id": "-Nvt_uhowPX3",
        "outputId": "dd308c3d-2ed0-4f8c-8fdd-bf1e4008941f"
      },
      "source": [
        "model.summary()"
      ],
      "execution_count": 30,
      "outputs": [
        {
          "output_type": "stream",
          "name": "stdout",
          "text": [
            "Model: \"model_3\"\n",
            "__________________________________________________________________________________________________\n",
            " Layer (type)                   Output Shape         Param #     Connected to                     \n",
            "==================================================================================================\n",
            " input_4 (InputLayer)           [(None, 28, 28)]     0           []                               \n",
            "                                                                                                  \n",
            " dense_9 (Dense)                (None, 28, 30)       870         ['input_4[0][0]']                \n",
            "                                                                                                  \n",
            " batch_normalization_3 (BatchNo  (None, 28, 30)      120         ['dense_9[0][0]']                \n",
            " rmalization)                                                                                     \n",
            "                                                                                                  \n",
            " dropout_3 (Dropout)            (None, 28, 30)       0           ['batch_normalization_3[0][0]']  \n",
            "                                                                                                  \n",
            " dense_10 (Dense)               (None, 28, 28)       868         ['dropout_3[0][0]']              \n",
            "                                                                                                  \n",
            " concatenate_3 (Concatenate)    (None, 56, 28)       0           ['input_4[0][0]',                \n",
            "                                                                  'dense_10[0][0]']               \n",
            "                                                                                                  \n",
            " flatten_3 (Flatten)            (None, 1568)         0           ['concatenate_3[0][0]']          \n",
            "                                                                                                  \n",
            " dense_11 (Dense)               (None, 10)           15690       ['flatten_3[0][0]']              \n",
            "                                                                                                  \n",
            "==================================================================================================\n",
            "Total params: 17,548\n",
            "Trainable params: 17,488\n",
            "Non-trainable params: 60\n",
            "__________________________________________________________________________________________________\n"
          ]
        }
      ]
    },
    {
      "cell_type": "code",
      "metadata": {
        "id": "WhFyJC0tZIpJ"
      },
      "source": [
        "model.compile(loss=\"sparse_categorical_crossentropy\", optimizer=\"adam\", metrics=[\"accuracy\"])"
      ],
      "execution_count": 31,
      "outputs": []
    },
    {
      "cell_type": "code",
      "metadata": {
        "colab": {
          "base_uri": "https://localhost:8080/"
        },
        "id": "7c1qqG_PZd3i",
        "outputId": "ed795fd3-fe24-4e86-ff55-634473c9bd1b"
      },
      "source": [
        "final = model.fit(x_train, y_train, epochs=10, validation_data=(x_valid, y_valid))"
      ],
      "execution_count": 32,
      "outputs": [
        {
          "output_type": "stream",
          "name": "stdout",
          "text": [
            "Epoch 1/10\n",
            "313/313 [==============================] - 5s 12ms/step - loss: 0.7408 - accuracy: 0.7309 - val_loss: 0.5746 - val_accuracy: 0.8027\n",
            "Epoch 2/10\n",
            "313/313 [==============================] - 4s 12ms/step - loss: 0.4974 - accuracy: 0.8155 - val_loss: 0.4539 - val_accuracy: 0.8398\n",
            "Epoch 3/10\n",
            "313/313 [==============================] - 4s 12ms/step - loss: 0.4546 - accuracy: 0.8347 - val_loss: 0.4192 - val_accuracy: 0.8508\n",
            "Epoch 4/10\n",
            "313/313 [==============================] - 4s 13ms/step - loss: 0.4155 - accuracy: 0.8469 - val_loss: 0.4174 - val_accuracy: 0.8503\n",
            "Epoch 5/10\n",
            "313/313 [==============================] - 4s 12ms/step - loss: 0.3892 - accuracy: 0.8555 - val_loss: 0.4138 - val_accuracy: 0.8529\n",
            "Epoch 6/10\n",
            "313/313 [==============================] - 4s 11ms/step - loss: 0.3726 - accuracy: 0.8633 - val_loss: 0.4081 - val_accuracy: 0.8544\n",
            "Epoch 7/10\n",
            "313/313 [==============================] - 4s 13ms/step - loss: 0.3557 - accuracy: 0.8674 - val_loss: 0.3900 - val_accuracy: 0.8628\n",
            "Epoch 8/10\n",
            "313/313 [==============================] - 4s 12ms/step - loss: 0.3539 - accuracy: 0.8674 - val_loss: 0.3858 - val_accuracy: 0.8623\n",
            "Epoch 9/10\n",
            "313/313 [==============================] - 4s 11ms/step - loss: 0.3308 - accuracy: 0.8783 - val_loss: 0.3805 - val_accuracy: 0.8647\n",
            "Epoch 10/10\n",
            "313/313 [==============================] - 4s 11ms/step - loss: 0.3274 - accuracy: 0.8805 - val_loss: 0.4138 - val_accuracy: 0.8542\n"
          ]
        }
      ]
    },
    {
      "cell_type": "code",
      "metadata": {
        "id": "F5Y4eZaNuAU_"
      },
      "source": [
        "score = model.evaluate(x_test,y_test,verbose=0)"
      ],
      "execution_count": 33,
      "outputs": []
    },
    {
      "cell_type": "code",
      "metadata": {
        "colab": {
          "base_uri": "https://localhost:8080/"
        },
        "id": "v4twwtOCwa8O",
        "outputId": "4e7eed3d-5172-4adb-b856-ab103f60e6db"
      },
      "source": [
        "X_new = x_test[:3]\n",
        "y_proba = model.predict(X_new)\n",
        "y_proba.round(2)"
      ],
      "execution_count": 34,
      "outputs": [
        {
          "output_type": "execute_result",
          "data": {
            "text/plain": [
              "array([[0.  , 0.  , 0.  , 0.  , 0.  , 0.01, 0.  , 0.13, 0.  , 0.86],\n",
              "       [0.  , 0.  , 0.97, 0.  , 0.01, 0.  , 0.02, 0.  , 0.  , 0.  ],\n",
              "       [0.  , 1.  , 0.  , 0.  , 0.  , 0.  , 0.  , 0.  , 0.  , 0.  ]],\n",
              "      dtype=float32)"
            ]
          },
          "metadata": {},
          "execution_count": 34
        }
      ]
    },
    {
      "cell_type": "code",
      "metadata": {
        "id": "rDzY_kFtwkpY"
      },
      "source": [
        "y_pred = model.predict(X_new)"
      ],
      "execution_count": 35,
      "outputs": []
    },
    {
      "cell_type": "code",
      "metadata": {
        "colab": {
          "base_uri": "https://localhost:8080/"
        },
        "id": "JI8kjmAV1xc9",
        "outputId": "bf6b4037-dd27-4095-e54c-b4c62db4dae1"
      },
      "source": [
        "y_pred"
      ],
      "execution_count": 36,
      "outputs": [
        {
          "output_type": "execute_result",
          "data": {
            "text/plain": [
              "array([[3.1205971e-06, 4.1197364e-07, 6.9996149e-06, 2.9823113e-07,\n",
              "        9.9704232e-07, 5.1424569e-03, 3.4089007e-06, 1.3484842e-01,\n",
              "        2.7570552e-03, 8.5723680e-01],\n",
              "       [2.5961709e-03, 4.3703945e-08, 9.7072071e-01, 1.8972653e-07,\n",
              "        1.0199790e-02, 7.2032771e-13, 1.6357059e-02, 2.7858139e-11,\n",
              "        1.2602664e-04, 2.7921256e-09],\n",
              "       [8.8166252e-07, 9.9999750e-01, 5.1050634e-08, 1.0651609e-06,\n",
              "        4.9220438e-07, 3.9483646e-12, 3.3168282e-10, 3.2506125e-12,\n",
              "        6.7026349e-09, 3.2676109e-14]], dtype=float32)"
            ]
          },
          "metadata": {},
          "execution_count": 36
        }
      ]
    },
    {
      "cell_type": "code",
      "metadata": {
        "colab": {
          "base_uri": "https://localhost:8080/"
        },
        "id": "qDK3E1yZvSpa",
        "outputId": "6e1525c0-de8e-4104-9e5d-6a44729301b7"
      },
      "source": [
        "accuracy = score[1]\n",
        "print(accuracy)"
      ],
      "execution_count": 37,
      "outputs": [
        {
          "output_type": "stream",
          "name": "stdout",
          "text": [
            "0.8474000096321106\n"
          ]
        }
      ]
    }
  ]
}